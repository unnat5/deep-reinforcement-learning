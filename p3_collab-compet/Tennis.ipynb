{
 "cells": [
  {
   "cell_type": "markdown",
   "metadata": {},
   "source": [
    "# Collaboration and Competition\n",
    "\n",
    "---\n",
    "\n",
    "You are welcome to use this coding environment to train your agent for the project.  Follow the instructions below to get started!\n",
    "\n",
    "### 1. Start the Environment\n",
    "\n",
    "Run the next code cell to install a few packages.  This line will take a few minutes to run!"
   ]
  },
  {
   "cell_type": "code",
   "execution_count": null,
   "metadata": {},
   "outputs": [],
   "source": [
    "!pip -q install ./python"
   ]
  },
  {
   "cell_type": "markdown",
   "metadata": {},
   "source": [
    "The environment is already saved in the Workspace and can be accessed at the file path provided below. "
   ]
  },
  {
   "cell_type": "code",
   "execution_count": 1,
   "metadata": {},
   "outputs": [
    {
     "name": "stderr",
     "output_type": "stream",
     "text": [
      "INFO:unityagents:\n",
      "'Academy' started successfully!\n",
      "Unity Academy name: Academy\n",
      "        Number of Brains: 1\n",
      "        Number of External Brains : 1\n",
      "        Lesson number : 0\n",
      "        Reset Parameters :\n",
      "\t\t\n",
      "Unity brain name: TennisBrain\n",
      "        Number of Visual Observations (per agent): 0\n",
      "        Vector Observation space type: continuous\n",
      "        Vector Observation space size (per agent): 8\n",
      "        Number of stacked Vector Observation: 3\n",
      "        Vector Action space type: continuous\n",
      "        Vector Action space size (per agent): 2\n",
      "        Vector Action descriptions: , \n"
     ]
    }
   ],
   "source": [
    "from unityagents import UnityEnvironment\n",
    "import numpy as np\n",
    "\n",
    "\n",
    "\n",
    "env = UnityEnvironment(file_name=\"./Tennis.app\",no_graphics=False)"
   ]
  },
  {
   "cell_type": "markdown",
   "metadata": {},
   "source": [
    "Environments contain **_brains_** which are responsible for deciding the actions of their associated agents. Here we check for the first brain available, and set it as the default brain we will be controlling from Python."
   ]
  },
  {
   "cell_type": "code",
   "execution_count": 2,
   "metadata": {},
   "outputs": [],
   "source": [
    "# get the default brain\n",
    "brain_name = env.brain_names[0]\n",
    "brain = env.brains[brain_name]"
   ]
  },
  {
   "cell_type": "markdown",
   "metadata": {},
   "source": [
    "### 2. Examine the State and Action Spaces\n",
    "\n",
    "Run the code cell below to print some information about the environment."
   ]
  },
  {
   "cell_type": "code",
   "execution_count": 3,
   "metadata": {},
   "outputs": [
    {
     "name": "stdout",
     "output_type": "stream",
     "text": [
      "Number of agents: 2\n",
      "Size of each action: 2\n",
      "There are 2 agents. Each observes a state with length: 24\n",
      "The state for the first agent looks like: [ 0.          0.          0.          0.          0.          0.\n",
      "  0.          0.          0.          0.          0.          0.\n",
      "  0.          0.          0.          0.         -6.65278625 -1.5\n",
      " -0.          0.          6.83172083  6.         -0.          0.        ]\n",
      "(2, 24)\n"
     ]
    }
   ],
   "source": [
    "# reset the environment\n",
    "env_info = env.reset(train_mode=True)[brain_name]\n",
    "\n",
    "# number of agents \n",
    "num_agents = len(env_info.agents)\n",
    "print('Number of agents:', num_agents)\n",
    "\n",
    "# size of each action\n",
    "action_size = brain.vector_action_space_size\n",
    "print('Size of each action:', action_size)\n",
    "\n",
    "# examine the state space \n",
    "states = env_info.vector_observations\n",
    "state_size = states.shape[1]\n",
    "print('There are {} agents. Each observes a state with length: {}'.format(states.shape[0], state_size))\n",
    "print('The state for the first agent looks like:', states[0])\n",
    "print(states.shape)"
   ]
  },
  {
   "cell_type": "markdown",
   "metadata": {},
   "source": [
    "### 3. Take Random Actions in the Environment\n",
    "\n",
    "In the next code cell, you will learn how to use the Python API to control the agent and receive feedback from the environment.\n",
    "\n",
    "Note that **in this coding environment, you will not be able to watch the agents while they are training**, and you should set `train_mode=True` to restart the environment."
   ]
  },
  {
   "cell_type": "code",
   "execution_count": null,
   "metadata": {},
   "outputs": [],
   "source": [
    "for i in range(5):                                         # play game for 5 episodes\n",
    "    env_info = env.reset(train_mode=False)[brain_name]     # reset the environment    \n",
    "    states = env_info.vector_observations                  # get the current state (for each agent)\n",
    "    scores = np.zeros(num_agents)                          # initialize the score (for each agent)\n",
    "    while True:\n",
    "        actions = np.random.randn(num_agents, action_size) # select an action (for each agent)\n",
    "        actions = np.clip(actions, -1, 1)                  # all actions between -1 and 1\n",
    "        print(actions.shape,\"actions_shape\")\n",
    "        \n",
    "        env_info = env.step(actions)[brain_name]           # send all actions to tne environment\n",
    "        next_states = env_info.vector_observations         # get next state (for each agent)\n",
    "        rewards = env_info.rewards                         # get reward (for each agent)\n",
    "        dones = env_info.local_done                        # see if episode finished\n",
    "        scores += env_info.rewards                         # update the score (for each agent)\n",
    "        states = next_states                               # roll over states to next time step\n",
    "        print(states.shape,\"state.shape\")\n",
    "        print(rewards,\"reward\")\n",
    "        print(next_states.shape,\"next_State\")\n",
    "        #print(done.shape,\"done\")\n",
    "        if np.any(dones):                                  # exit loop if episode finished\n",
    "            break\n",
    "    print('Total score (averaged over agents) this episode: {}'.format(np.mean(scores)))"
   ]
  },
  {
   "cell_type": "markdown",
   "metadata": {},
   "source": [
    "When finished, you can close the environment."
   ]
  },
  {
   "cell_type": "code",
   "execution_count": 13,
   "metadata": {},
   "outputs": [],
   "source": [
    "env.close()"
   ]
  },
  {
   "cell_type": "markdown",
   "metadata": {},
   "source": [
    "### 4. It's Your Turn!\n",
    "\n",
    "Now it's your turn to train your own agent to solve the environment!  A few **important notes**:\n",
    "- When training the environment, set `train_mode=True`, so that the line for resetting the environment looks like the following:\n",
    "```python\n",
    "env_info = env.reset(train_mode=True)[brain_name]\n",
    "```\n",
    "- To structure your work, you're welcome to work directly in this Jupyter notebook, or you might like to start over with a new file!  You can see the list of files in the workspace by clicking on **_Jupyter_** in the top left corner of the notebook.\n",
    "- In this coding environment, you will not be able to watch the agents while they are training.  However, **_after training the agents_**, you can download the saved model weights to watch the agents on your own machine! "
   ]
  },
  {
   "cell_type": "code",
   "execution_count": 7,
   "metadata": {},
   "outputs": [],
   "source": [
    "import torch\n",
    "import torch.nn as nn\n",
    "import torch.nn.functional as f\n",
    "import numpy as np\n",
    "\n",
    "def hidden_init(layer):\n",
    "    fan_in = layer.weight.data.size()[0]\n",
    "    lim = 1./np.sqrt(fan_in)\n",
    "    return (-lim, lim)\n",
    "\n",
    "class Network(nn.Module):\n",
    "    def __init__(self, input_dim, hidden_in_dim,hidden_out_dim,\n",
    "                output_dim,actor=False):\n",
    "        super().__init__()\n",
    "        \n",
    "        self.fc1 = nn.Linear(input_dim,hidden_in_dim)\n",
    "        self.fc2 = nn.Linear(hidden_in_dim,hidden_out_dim)\n",
    "        self.fc3 = nn.Linear(hidden_out_dim,output_dim)\n",
    "        self.actor = actor\n",
    "        #self.reset_parameters()\n",
    "        \n",
    "    def reset_parameters(self):\n",
    "        self.fc1.weight.data.uniform_(*hidden_init(self.fc1))\n",
    "        self.fc2.weight.data.uniform_(*hidden_init(self.fc2))\n",
    "        self.fc3.weight.data.uniform_(-1e-3, 1e-3)\n",
    "        \n",
    "    def forward(self,x):\n",
    "        if self.actor:\n",
    "            h1 = f.leaky_relu(self.fc1(x))\n",
    "            h2 = f.leaky_relu(self.fc2(h1))\n",
    "            return f.tanh(self.fc3(h2))\n",
    "        else:\n",
    "            h1 = f.leaky_relu(self.fc1(x))\n",
    "            h2 = f.leaky_relu(self.fc2(h1))\n",
    "            h3 = self.fc3(h2)\n",
    "            return h3"
   ]
  },
  {
   "cell_type": "code",
   "execution_count": 8,
   "metadata": {},
   "outputs": [],
   "source": [
    "import torch\n",
    "from torch.optim import Adam\n",
    "import numpy as np\n",
    "\n",
    "device = torch.device(\"cuda:0\" if torch.cuda.is_available() else \"cpu\") \n",
    "\n",
    "class DDPGAgent:\n",
    "    \n",
    "    def __init__(self,in_actor=24,hidden_in_actor=128, hidden_out_actor=150, out_actor=2,\n",
    "                in_critic=52, hidden_in_critic=128, hidden_out_critic=150, lr_actor=0.0001,\n",
    "                lr_critic=0.0001,random_seed=41):\n",
    "        super().__init__()\n",
    "        \n",
    "        self.actor = Network(in_actor,hidden_in_actor,hidden_out_actor,\n",
    "                            out_actor,actor=True).to(device)\n",
    "        self.critic = Network(in_critic,hidden_in_critic, hidden_out_critic,\n",
    "                             1).to(device)\n",
    "        self.target_actor = Network(in_actor,hidden_in_actor,hidden_out_actor,\n",
    "                                    out_actor,actor=True).to(device)\n",
    "        self.target_critic = Network(in_critic,hidden_in_critic, hidden_out_critic,\n",
    "                             1).to(device)\n",
    "        self.noise = OUNoise(out_actor,random_seed)\n",
    "        \n",
    "        self.hard_update(self.target_actor,self.actor)\n",
    "        self.hard_update(self.target_critic,self.critic)\n",
    "        \n",
    "        self.actor_optimizer = Adam(self.actor.parameters(),lr = lr_actor)\n",
    "        self.critic_optimizer = Adam(self.critic.parameters(), lr=lr_critic)\n",
    "        \n",
    "    def act(self, obs, noise=0.5):\n",
    "        obs = torch.from_numpy(obs).float().to(device)\n",
    "        #print(self.noise.noise(),self.actor(obs))\n",
    "        action = self.actor(obs) + noise*torch.Tensor(self.noise.noise())\n",
    "        \n",
    "        return action\n",
    "    \n",
    "    def target_act(self, obs, noise=0.5):\n",
    "        obs = obs.to(device)\n",
    "        action = self.target_actor(obs)+ noise*torch.Tensor(self.noise.noise())\n",
    "        return action\n",
    "    \n",
    "    def hard_update(self, target, source):\n",
    "        for target_param, param in zip(target.parameters(),source.parameters()):\n",
    "            target_param.data.copy_(param.data)\n",
    "            \n",
    "    def soft_update(self, target, source, tau):\n",
    "        for target_param,param in zip(target.parameters(), source.parameters()):\n",
    "            target_param.data.copy_(target_param.data*(1-tau) + tau*param.data)\n",
    "            \n",
    "            \n",
    "class OUNoise:\n",
    "    \"\"\"Ornstein-Uhlenbeck process.\"\"\"\n",
    "    \n",
    "    def __init__(self, size, seed, mu=0.07, theta=0.15, sigma=0.2):\n",
    "        \"\"\"Initialize parameters and noise process.\"\"\"\n",
    "        self.mu = mu*np.ones(size)\n",
    "        self.theta = theta\n",
    "        self.sigma = sigma\n",
    "        self.seed = random.seed(seed)\n",
    "        self.reset()\n",
    "        \n",
    "    def reset(self):\n",
    "        \"\"\"Reset the internal state (= noise) to mean (mu).\"\"\"\n",
    "        self.state = copy.copy(self.mu)\n",
    "        \n",
    "    def noise(self):\n",
    "        \"\"\"Update internal state and return it as a noise sample\"\"\"\n",
    "        x = self.state\n",
    "        dx = self.theta*(self.mu-x) + self.sigma*np.array([random.gauss(0., 1.) for i in range(len(x))])\n",
    "        self.state =x +dx\n",
    "        return self.state"
   ]
  },
  {
   "cell_type": "code",
   "execution_count": 15,
   "metadata": {},
   "outputs": [],
   "source": [
    "import torch\n",
    "import random\n",
    "import copy\n",
    "from collections import deque, namedtuple\n",
    "device = torch.device(\"cuda:0\" if torch.cuda.is_available() else \"cpu\") \n",
    "\n",
    "BUFFER_SIZE = int(1e5)    # replay buffer\n",
    "BATCH_SIZE = 128\n",
    "\n",
    "class MADDPG:\n",
    "    \n",
    "    def __init__(self, discount_factor=0.999, tau=1e-5,random_seed=51):\n",
    "        self.maddpg_agent = [DDPGAgent(),DDPGAgent()]\n",
    "        self.discount_factor = discount_factor\n",
    "        self.tau = tau\n",
    "        self.counter = 0\n",
    "        self.memory = ReplayBuffer(2, BUFFER_SIZE, BATCH_SIZE, random_seed)\n",
    "        \n",
    "    def get_actors(self):\n",
    "        \"\"\"get actors of all the agents in the MADDPG object\"\"\"\n",
    "        actors = [ddpg_agent.actor for ddpg_agent in self.maddpg_agent]\n",
    "        return actors\n",
    "    \n",
    "    def get_target_actors(self):\n",
    "        \"\"\"get target_actors of all the agents in the MADDPG object\"\"\"\n",
    "        target_actors = [ddpg_agent.target_actors for ddpg_agent in self.maddpg_agent]\n",
    "        return target_actors\n",
    "    \n",
    "    def act(self, obs_all_agents, noise=0.0001):\n",
    "        \"\"\"get actions from all agents in the MADDPG object\"\"\"\n",
    "        actions = [agent.act(obs, noise) for agent, obs in zip(self.maddpg_agent, obs_all_agents)]\n",
    "        return actions\n",
    "    \n",
    "    def target_act(self, obs_all_agents, noise=0.0001):\n",
    "        \"\"\"Get target network actions from all the agent in the MADDPG object\"\"\"\n",
    "        \n",
    "        #target_actions = [ddpg_agent.target_act(obs, noise) for ddpg_agent,obs in zip(self.maddpg_agent, obs_all_agents)]\n",
    "        target_actions = []\n",
    "        for ii in range(2):\n",
    "            target_actions.append(self.maddpg_agent[ii].target_act(obs_all_agents[:,ii,:],noise))\n",
    "            \n",
    "        return target_actions  \n",
    "    \n",
    "    def step(self, state, action, reward, next_state, done):\n",
    "        \"\"\"Save experience in replay memory, and use random sample from buffer to learn.\"\"\"\n",
    "        # Save experience / reward \n",
    "        self.memory.add(state, action, reward, next_state, done)\n",
    "        self.counter+=1\n",
    "        \n",
    "        # Learn, if enough samples are available in memory\n",
    "        if len(self.memory) > BATCH_SIZE:\n",
    "            for ii in range(2):\n",
    "                experience = self.memory.sample()\n",
    "                self.learn(experience,ii)\n",
    "                \n",
    "    def learn(self, experience, agent_number):\n",
    "        state,action,reward,next_state,done = experience\n",
    "        agent = self.maddpg_agent[agent_number]\n",
    "        critic = self.maddpg_agent[agent_number]\n",
    "        \n",
    "        ## ============================== ##\n",
    "        #       Critic Training            #\n",
    "        ## ============================== ##        \n",
    "        \n",
    "        critic.critic_optimizer.zero_grad()\n",
    "        state_full = torch.cat((state[:,0,:],state[:,1,:]),dim=1)\n",
    "        state_next_full = torch.cat((next_state[:,0,:],next_state[:,1,:]),dim=1)\n",
    "        \n",
    "        \n",
    "        target_actions = self.target_act(next_state)\n",
    "        target_actions = torch.cat(target_actions,dim=1)\n",
    "        \n",
    "        target_critic_input = torch.cat((state_next_full,target_actions),dim=1).to(device)\n",
    "        #print(target_critic_input.size(),\"Sdasdasd\")\n",
    "        with torch.no_grad():\n",
    "            q_next = critic.target_critic(target_critic_input)\n",
    "            \n",
    "        y= reward[:,agent_number].reshape(-1,1) +self.discount_factor*q_next * (1 - done[:,agent_number].reshape(-1,1))\n",
    "        #print(y.shape,\"Asdas\")\n",
    "        action = action.view(-1,4)\n",
    "        critic_input = torch.cat((state_full,action),dim=1).to(device)\n",
    "        q = critic.critic(critic_input)\n",
    "        \n",
    "        huber_loss = torch.nn.MSELoss()\n",
    "        critic_loss = huber_loss(q,y.detach())\n",
    "        critic_loss.backward()\n",
    "        agent.critic_optimizer.step()\n",
    "        \n",
    "        \n",
    "        ## ============================== ##\n",
    "        #         Agent Training           #\n",
    "        ## ============================== ##\n",
    "        \n",
    "        agent.actor_optimizer.zero_grad()\n",
    "        #print(state.shape,\"Sdas\")\n",
    "        \n",
    "        #q_input = [self.maddpg_agent[i].actor(ob[i]) if i == agent_number  else  self.maddpg_agent[i].actor(ob).detach() for i, ob in enumerate(state)]\n",
    "        q_input = []\n",
    "        for ii in range(2):\n",
    "            if ii == agent_number:\n",
    "                q_input.append(self.maddpg_agent[ii].actor(state[:,ii,:]))\n",
    "            else:\n",
    "                q_input.append(self.maddpg_agent[ii].actor(state[:,ii,:]).detach())\n",
    "        \n",
    "        q_input = torch.cat(q_input,dim=1)\n",
    "        \n",
    "        \n",
    "        q_input2 = torch.cat((state_full,q_input),dim=1)\n",
    "        \n",
    "        actor_loss = -agent.critic(q_input2).mean()\n",
    "        actor_loss.backward()\n",
    "        agent.actor_optimizer.step()\n",
    "        \n",
    "        self.update_targets()\n",
    "        \n",
    "    def update_targets(self):\n",
    "        \"\"\"soft update targets\"\"\"\n",
    "        for ddpg_agent in self.maddpg_agent:\n",
    "            ddpg_agent.soft_update(ddpg_agent.target_actor, ddpg_agent.actor, self.tau)\n",
    "            ddpg_agent.soft_update(ddpg_agent.target_critic, ddpg_agent.critic, self.tau)    \n",
    "        \n",
    "        \n",
    "        \n",
    "        \n",
    "\n",
    "    \n",
    "\n",
    "class ReplayBuffer:\n",
    "    \"\"\"Fixed-size buffer to store experience tuples.\"\"\"\n",
    "\n",
    "    def __init__(self, action_size, buffer_size, batch_size, seed):\n",
    "        \"\"\"Initialize a ReplayBuffer object.\n",
    "        Params\n",
    "        ======\n",
    "            buffer_size (int): maximum size of buffer\n",
    "            batch_size (int): size of each training batch\n",
    "        \"\"\"\n",
    "        self.action_size = action_size\n",
    "        self.memory = deque(maxlen=buffer_size)  # internal memory (deque)\n",
    "        self.batch_size = batch_size\n",
    "        self.experience = namedtuple(\"Experience\", field_names=[\"state\", \"action\", \"reward\", \"next_state\", \"done\"])\n",
    "        self.seed = random.seed(seed)\n",
    "    \n",
    "    def add(self, state, action, reward, next_state, done):\n",
    "        \"\"\"Add a new experience to memory.\"\"\"\n",
    "        e = self.experience(state, action, reward, next_state, done)\n",
    "        self.memory.append(e)\n",
    "    \n",
    "    def sample(self):\n",
    "        \"\"\"Randomly sample a batch of experiences from memory.\"\"\"\n",
    "        experiences = random.sample(self.memory, k=self.batch_size)\n",
    "        states = torch.from_numpy(np.array([e.state for e in experiences if e is not None])).float().to(device)\n",
    "        actions = torch.from_numpy(np.array([e.action for e in experiences if e is not None])).float().to(device)\n",
    "        rewards = torch.from_numpy(np.array([e.reward for e in experiences if e is not None])).float().to(device)\n",
    "        next_states = torch.from_numpy(np.array([e.next_state for e in experiences if e is not None])).float().to(device)\n",
    "        dones = torch.from_numpy(np.array([e.done for e in experiences if e is not None]).astype(np.uint8)).float().to(device)\n",
    "\n",
    "        return (states, actions, rewards, next_states, dones)\n",
    "\n",
    "    def __len__(self):\n",
    "        \"\"\"Return the current size of internal memory.\"\"\"\n",
    "        return len(self.memory)        \n",
    "        \n",
    "        \n",
    "        \n",
    "        "
   ]
  },
  {
   "cell_type": "code",
   "execution_count": 12,
   "metadata": {},
   "outputs": [],
   "source": [
    "maddpg = MADDPG()"
   ]
  },
  {
   "cell_type": "code",
   "execution_count": 30,
   "metadata": {},
   "outputs": [],
   "source": [
    "def ddpg(n_episode=4500, max_t=320, print_every=100):\n",
    "    scores_deque = deque(maxlen=print_every)\n",
    "    scoress= []\n",
    "    #logger = Logger('./logs')\n",
    "    for i_episodes in range(1, n_episode+1):\n",
    "        env_info = env.reset(train_mode=True)[brain_name]      # reset the environment    \n",
    "        states = env_info.vector_observations # get the current state (for each agent)\n",
    "        scores = np.zeros(num_agents)                          # initialize the score (for each agent)\n",
    "        while True:\n",
    "            actions=maddpg.act(states, noise =0.00009)\n",
    "            actions = [a.detach().numpy() for a in actions]\n",
    "            actions = np.array(actions).reshape(2,2)\n",
    "            actions = np.clip(actions, -1, 1)                  # all actions between -1 and 1\n",
    "            env_info = env.step(actions)[brain_name]           # send all actions to tne environment\n",
    "            next_states = env_info.vector_observations         # get next state (for each agent)\n",
    "            rewards = env_info.rewards\n",
    "            dones = env_info.local_done                        # see if episode finished\n",
    "            maddpg.step(states,actions,rewards,next_states,dones)\n",
    "            scores += env_info.rewards                         # update the score (for each agent)\n",
    "            states = next_states                               # roll over states to next time step\n",
    "            if np.any(dones):                                  # exit loop if episode finished\n",
    "                break\n",
    "        mean_reward = np.mean(scores)\n",
    "        scores_deque.append(mean_reward)\n",
    "        scoress.append(mean_reward)\n",
    "        if np.mean(scores_deque)>0.5 and i_episodes>100:\n",
    "            print(\"Environment Solved!!\")\n",
    "            return scoress, scores_deque\n",
    "        print('\\rEpisode {}\\tAverage Score: {}  Best_score: {} current score: {}'.format(i_episodes,np.mean(scores_deque),\n",
    "                                                                                             max(scores_deque),scores_deque[-1]),end=\"\")\n",
    "        if i_episodes%print_every ==0:\n",
    "            print('\\rEpisode {}\\tAverage Score: {:.2f}'.format(i_episodes,np.mean(scores_deque)))\n",
    "    return scoress, scores_deque"
   ]
  },
  {
   "cell_type": "code",
   "execution_count": 31,
   "metadata": {},
   "outputs": [
    {
     "name": "stdout",
     "output_type": "stream",
     "text": [
      "Episode 100\tAverage Score: 0.48605000728741287  Best_score: 2.600000038743019 current score: 0.2950000045821070711\n",
      "Episode 101\tAverage Score: 0.49305000754073264  Best_score: 2.600000038743019 current score: 1.7450000261887908Environment Solved!!\n"
     ]
    }
   ],
   "source": [
    "score,d = ddpg()"
   ]
  },
  {
   "cell_type": "code",
   "execution_count": 32,
   "metadata": {},
   "outputs": [
    {
     "data": {
      "image/png": "[encoded data removed]",
      "text/plain": [
       "<Figure size 432x288 with 1 Axes>"
      ]
     },
     "metadata": {
      "needs_background": "light"
     },
     "output_type": "display_data"
    }
   ],
   "source": [
    "import matplotlib.pyplot as plt\n",
    "plt.plot(d)\n",
    "plt.show()"
   ]
  },
  {
   "cell_type": "code",
   "execution_count": 33,
   "metadata": {},
   "outputs": [
    {
     "data": {
      "image/png": "[encoded data removed]",
      "text/plain": [
       "<Figure size 432x288 with 1 Axes>"
      ]
     },
     "metadata": {
      "needs_background": "light"
     },
     "output_type": "display_data"
    }
   ],
   "source": [
    "import matplotlib.pyplot as plt\n",
    "plt.plot(score)\n",
    "plt.show()"
   ]
  },
  {
   "cell_type": "markdown",
   "metadata": {},
   "source": [
    "# Saving the agent"
   ]
  },
  {
   "cell_type": "code",
   "execution_count": 35,
   "metadata": {},
   "outputs": [
    {
     "name": "stderr",
     "output_type": "stream",
     "text": [
      "/Users/unnat/miniconda3/envs/drlnd/lib/python3.6/site-packages/torch/serialization.py:193: UserWarning: Couldn't retrieve source code for container of type Network. It won't be checked for correctness upon loading.\n",
      "  \"type \" + obj.__name__ + \". It won't be checked \"\n"
     ]
    }
   ],
   "source": [
    "#torch.save(maddpg.maddpg_agent,\"Marl_policy\")"
   ]
  },
  {
   "cell_type": "code",
   "execution_count": 9,
   "metadata": {},
   "outputs": [],
   "source": [
    "import torch\n",
    "device = \"cpu\"\n",
    "ma_policy = torch.load('Marl_policy')\n",
    "def get_actions(ma_policy,state):\n",
    "    obs = torch.from_numpy(state).float().to(device) \n",
    "    action = []\n",
    "    for agent,obs in zip(ma_policy,obs):\n",
    "        action.append(agent.actor(obs))\n",
    "    return action"
   ]
  },
  {
   "cell_type": "code",
   "execution_count": 12,
   "metadata": {},
   "outputs": [],
   "source": [
    "for i_episodes in range(1, 10):\n",
    "    env_info = env.reset(train_mode=False)[brain_name]      # reset the environment    \n",
    "    states = env_info.vector_observations # get the current state (for each agent)\n",
    "    #states = torch.Tensor(states)\n",
    "    scores = np.zeros(num_agents)                          # initialize the score (for each agent)\n",
    "    while True:\n",
    "        #actions=maddpg.act(states, noise =0.00009)\n",
    "        actions = get_actions(ma_policy,states) \n",
    "        actions = [a.detach().numpy() for a in actions]\n",
    "        actions = np.array(actions).reshape(2,2)\n",
    "        actions = np.clip(actions, -1, 1)                  # all actions between -1 and 1\n",
    "        env_info = env.step(actions)[brain_name]           # send all actions to tne environment\n",
    "        next_states = env_info.vector_observations         # get next state (for each agent)\n",
    "        rewards = env_info.rewards\n",
    "        #print(rewards,end=\"\")# get reward (for each agent)\n",
    "        dones = env_info.local_done                        # see if episode finished\n",
    "        #print(states.shape,actions.shape,next_states.shape,\"sada\")\n",
    "        #maddpg.step(states,actions,rewards,next_states,dones)\n",
    "        scores += env_info.rewards                         # update the score (for each agent)\n",
    "        states = next_states                               # roll over states to next time step\n",
    "        if np.any(dones):                                  # exit loop if episode finished\n",
    "            break\n"
   ]
  },
  {
   "cell_type": "markdown",
   "metadata": {},
   "source": [
    "# Watch a Smart Agent"
   ]
  },
  {
   "cell_type": "markdown",
   "metadata": {},
   "source": [
    "![tennis](https://github.com/unnat5/deep-reinforcement-learning/blob/master/p3_collab-compet/tennis.gif)"
   ]
  },
  {
   "cell_type": "code",
   "execution_count": null,
   "metadata": {},
   "outputs": [],
   "source": []
  }
 ],
 "metadata": {
  "kernelspec": {
   "display_name": "Python 3",
   "language": "python",
   "name": "python3"
  },
  "language_info": {
   "codemirror_mode": {
    "name": "ipython",
    "version": 3
   },
   "file_extension": ".py",
   "mimetype": "text/x-python",
   "name": "python",
   "nbconvert_exporter": "python",
   "pygments_lexer": "ipython3",
   "version": "3.6.7"
  }
 },
 "nbformat": 4,
 "nbformat_minor": 2
}
